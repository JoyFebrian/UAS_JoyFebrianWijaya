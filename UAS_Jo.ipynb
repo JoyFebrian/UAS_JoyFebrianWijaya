{
 "cells": [
  {
   "cell_type": "code",
   "execution_count": 14,
   "id": "6bf550fd",
   "metadata": {},
   "outputs": [
    {
     "name": "stdout",
     "output_type": "stream",
     "text": [
      "MENGHITUNG LUAS & KELILING PERSEGI\n",
      "\n",
      "Masukan Panjang: 10\n",
      "Masukan Lebar: 10\n",
      "Keliling Persegi : 54.0\n",
      "Luas Persegi   : 100.0\n"
     ]
    }
   ],
   "source": [
    "print(\"MENGHITUNG LUAS & KELILING PERSEGI\")\n",
    "\n",
    "panjang = float(input(\"\\nMasukan Panjang: \"))\n",
    "lebar = float(input(\"Masukan Lebar: \"))\n",
    "\n",
    "def P_panjang(panjang,lebar):\n",
    "    Keliling = (2*panjang) + (2*lebar)\n",
    "    luas = (panjang*lebar)\n",
    "    print(\"Keliling Persegi :\",keliling); \n",
    "    print(\"Luas Persegi   :\",luas)\n",
    "    \n",
    "P_panjang(panjang, lebar)"
   ]
  },
  {
   "cell_type": "code",
   "execution_count": 22,
   "id": "207ccb3b",
   "metadata": {},
   "outputs": [
    {
     "name": "stdout",
     "output_type": "stream",
     "text": [
      "Nama   : joy\n",
      "Alamat : sambe\n",
      "NIM    : 202102317\n",
      "\n",
      "\n",
      "Your Profil \n",
      "Nama   :  joy\n",
      "Alamat :  sambe\n",
      "NIM    :  202102317\n"
     ]
    }
   ],
   "source": [
    "class Profil():\n",
    "    def _init_(self,nama,alamat,nim):\n",
    "        \n",
    "        print(\"Inputkan Biodata Anda\")\n",
    "        \n",
    "    def input(self):\n",
    "        self.nama = input(\"Nama   : \")\n",
    "        self.alamat = input(\"Alamat : \")\n",
    "        self.nim = input(\"NIM    : \")\n",
    "        \n",
    "class datadiri(Profil):\n",
    "    def cetak(self):\n",
    "        print (\"\\n\\nYour Profil \")\n",
    "        print (\"Nama   : \", self.nama)\n",
    "        print (\"Alamat : \", self.alamat)\n",
    "        print (\"NIM    : \", self.nim)\n",
    "        \n",
    "data = datadiri()\n",
    "data.input()\n",
    "data.cetak()"
   ]
  },
  {
   "cell_type": "code",
   "execution_count": null,
   "id": "774e5ad6",
   "metadata": {},
   "outputs": [
    {
     "name": "stdout",
     "output_type": "stream",
     "text": [
      "1. Tambah\n",
      "2. Kurang\n",
      "3. Kali\n",
      "4. Bagi\n",
      "5. Exit\n",
      "Pilih operasi :1\n"
     ]
    }
   ],
   "source": [
    "class calculator:\n",
    "    def tambah(self, vb1, vb2):\n",
    "        return vb1+vb2\n",
    "    def kurang(self, vb1, vb2):\n",
    "        return vb1-vb2\n",
    "    def kali(self, vb1, vb2):\n",
    "        return vb1*vb2\n",
    "    def bagi(self, vb1, vb2):\n",
    "        return vb1/vb2\n",
    "    \n",
    "kalkulatorku = calculator()\n",
    "\n",
    "while True:\n",
    "    print(\"1. Tambah\")\n",
    "    print(\"2. Kurang\")\n",
    "    print(\"3. Kali\")\n",
    "    print(\"4. Bagi\")\n",
    "    print(\"5. Exit\")\n",
    "    \n",
    "    ch = int(input(\"Pilih operasi :\"))\n",
    "    \n",
    "    if ch in (1, 2, 3, 4, 5):\n",
    "        if(ch==5):\n",
    "            break\n",
    "            \n",
    "        a = int(input(\"\\nMasukkan Angka Pertama :\"))\n",
    "        b = int(input(\"\\nMasukkan Angka Kedua   :\"))\n",
    "        \n",
    "        if(ch==1):\n",
    "            print(vb1, \"+\", vb2, \"=\", kalkulatorku.tambah(vb1,vb2))\n",
    "            \n",
    "        elif(ch==2):\n",
    "            print(vb1, \"-\", vb2, \"=\", kalkulatorku.kurang(vb1,vb2))\n",
    "            \n",
    "        elif(ch==3):\n",
    "            print(vb1, \"x\", vb2, \"=\", kalkulatorku.kali(vb1,vb2))\n",
    "            \n",
    "        elif(ch==4):\n",
    "            print(vb1, \":\", vb2, \"=\", kalkulatorku.bagi(vb1,vb2))\n",
    "            \n",
    "    else:\n",
    "        print(\"Invalid Input\")"
   ]
  },
  {
   "cell_type": "code",
   "execution_count": null,
   "id": "eb5d43c0",
   "metadata": {},
   "outputs": [],
   "source": []
  },
  {
   "cell_type": "code",
   "execution_count": null,
   "id": "3fa2065e",
   "metadata": {},
   "outputs": [],
   "source": []
  },
  {
   "cell_type": "code",
   "execution_count": null,
   "id": "54a5a72f",
   "metadata": {},
   "outputs": [],
   "source": []
  },
  {
   "cell_type": "code",
   "execution_count": null,
   "id": "866778ea",
   "metadata": {},
   "outputs": [],
   "source": []
  },
  {
   "cell_type": "code",
   "execution_count": null,
   "id": "266e99ee",
   "metadata": {},
   "outputs": [],
   "source": []
  },
  {
   "cell_type": "code",
   "execution_count": null,
   "id": "b7d3f527",
   "metadata": {},
   "outputs": [],
   "source": []
  },
  {
   "cell_type": "code",
   "execution_count": null,
   "id": "c9ad6b1c",
   "metadata": {},
   "outputs": [],
   "source": []
  }
 ],
 "metadata": {
  "kernelspec": {
   "display_name": "Python 3",
   "language": "python",
   "name": "python3"
  }
 },
 "nbformat": 4,
 "nbformat_minor": 5
}
